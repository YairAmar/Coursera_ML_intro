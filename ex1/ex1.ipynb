{
 "cells": [
  {
   "cell_type": "code",
   "execution_count": 270,
   "metadata": {},
   "outputs": [],
   "source": [
    "import numpy as np\n",
    "import matplotlib.pyplot as plt\n",
    "%matplotlib inline"
   ]
  },
  {
   "cell_type": "code",
   "execution_count": 97,
   "metadata": {},
   "outputs": [],
   "source": [
    "# loadinf data\n",
    "data_dir1 = \"data\\ex1data1.txt\"\n",
    "data1 = np.loadtxt(data_dir1 ,delimiter=',', unpack = True)\n",
    "X = np.array(data1[:1]).T\n",
    "y = np.array(data1[1:]).T"
   ]
  },
  {
   "cell_type": "code",
   "execution_count": 263,
   "metadata": {},
   "outputs": [],
   "source": [
    "class LinearRegression():\n",
    "    \"\"\" \n",
    "    This class is made for training a model of linear regression\n",
    "    \"\"\"\n",
    "    def __init__(self):\n",
    "        \"\"\"\n",
    "        The constractor of the LinearRegression object\n",
    "        \"\"\"\n",
    "        self.theta = np.zeros((2,1))\n",
    "        \n",
    "    def fit(self, X, y,iterations = 1500, alpha = 0.01, save_cost = False, save_theta = False):\n",
    "        \"\"\"\n",
    "        Trains the Linear-Regression model.\n",
    "        the model's weights are optimized using batch gradient descent\n",
    "        X - the input data\n",
    "        y - target (expected output for the data)\n",
    "        iterations - number of gradient descent iterations, defaulted to be 1500\n",
    "        alpha - step size, defaulted to be 0.01\n",
    "        save_cost - if True, fit will return a list of the cost-function's values\n",
    "        save_theta - if True, fit will return a list of theta's values\n",
    "        \"\"\"\n",
    "        X = np.insert(X, 0,1,axis=1)\n",
    "        m = len(y)\n",
    "        cost_list = []\n",
    "        theta_list = []\n",
    "            \n",
    "        for i in range(iterations):\n",
    "            y_hat =  X @ self.theta\n",
    "            step = X.T @ (y_hat - y) / m\n",
    "            self.theta -= alpha * step\n",
    "                        \n",
    "            # documenting the values of theta and the cost-function\n",
    "            if (save_cost or save_theta) and i%10 == 0:\n",
    "                if save_cost:\n",
    "                    cost = ((y_hat-y).T @ (y_hat-y) / (2*m)).item()\n",
    "                    cost_list.append(cost)\n",
    "                if save_theta:\n",
    "                    tmp = (self.theta[0].item(),self.theta[1].item())\n",
    "                    theta_list.append(tmp)\n",
    "                    \n",
    "        return {\"cost\":cost_list, \"theta\":theta_list}\n",
    "    \n",
    "    def predict(self, X):\n",
    "        \"\"\"\n",
    "        X - input data\n",
    "        returns a prediction using the linear model\n",
    "        \"\"\"\n",
    "        y_hat = X @ self.theta \n",
    "        return y_hat   "
   ]
  },
  {
   "cell_type": "code",
   "execution_count": 266,
   "metadata": {},
   "outputs": [],
   "source": [
    "def visualize(X, y, theta):\n",
    "        \"\"\"\n",
    "        visualizes a trained regression model, while plotting the data as well\n",
    "        \"\"\"\n",
    "        plt.scatter(X[:,-1],y,marker = \"3\")\n",
    "        plt.xlabel(\"X\")\n",
    "        plt.ylabel(\"y\")\n",
    "        plt.title(\"fitted model\")\n",
    "        plt.grid()\n",
    "        t = np.linspace(np.min(X[:,-1]), np.max(X[:,-1]), 10000)\n",
    "        line = theta[0] + t*theta[1]\n",
    "        plt.plot(t,line,'r')\n",
    "        plt.show()"
   ]
  },
  {
   "cell_type": "code",
   "execution_count": 250,
   "metadata": {},
   "outputs": [],
   "source": [
    "# lets train a model\n",
    "lin_reg = LinearRegression()\n",
    "doc = lin_reg.fit(X,y,save_cost = True, save_theta = True)"
   ]
  },
  {
   "cell_type": "code",
   "execution_count": 264,
   "metadata": {},
   "outputs": [
    {
     "data": {
      "image/png": "[encoded data removed]",
      "text/plain": [
       "<Figure size 432x288 with 1 Axes>"
      ]
     },
     "metadata": {
      "needs_background": "light"
     },
     "output_type": "display_data"
    }
   ],
   "source": [
    "# plotting the cost-function over iterations\n",
    "plt.plot(doc[\"cost\"])\n",
    "plt.xlabel(\"iterations (dozens)\")\n",
    "plt.ylabel(\"cost function\")\n",
    "plt.title(\"cost function over iterations\")\n",
    "plt.show()"
   ]
  },
  {
   "cell_type": "code",
   "execution_count": 268,
   "metadata": {},
   "outputs": [
    {
     "data": {
      "image/png": "[encoded data removed]",
      "text/plain": [
       "<Figure size 432x288 with 1 Axes>"
      ]
     },
     "metadata": {
      "needs_background": "light"
     },
     "output_type": "display_data"
    }
   ],
   "source": [
    "# graph of the fitted-model over the train data\n",
    "visualize(X, y, doc[\"theta\"][-1])"
   ]
  },
  {
   "cell_type": "code",
   "execution_count": null,
   "metadata": {},
   "outputs": [],
   "source": [
    "# now, in order to make it all worth something, lets test the results over a test set!\n",
    "# TODO!"
   ]
  }
 ],
 "metadata": {
  "kernelspec": {
   "display_name": "Python 3",
   "language": "python",
   "name": "python3"
  },
  "language_info": {
   "codemirror_mode": {
    "name": "ipython",
    "version": 3
   },
   "file_extension": ".py",
   "mimetype": "text/x-python",
   "name": "python",
   "nbconvert_exporter": "python",
   "pygments_lexer": "ipython3",
   "version": "3.7.4"
  }
 },
 "nbformat": 4,
 "nbformat_minor": 2
}
